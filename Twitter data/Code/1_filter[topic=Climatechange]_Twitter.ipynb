{
 "cells": [
  {
   "cell_type": "markdown",
   "metadata": {},
   "source": [
    "# Filter\n",
    "\n",
    "python=3.7\n",
    "\n",
    "|topic        |platform   |language   |\n",
    "|-------------|-----------|-----------|\n",
    "|Climatechange|Twitter    |en         |"
   ]
  },
  {
   "cell_type": "code",
   "execution_count": null,
   "metadata": {},
   "outputs": [],
   "source": [
    "import pandas as pd\n",
    "import seaborn as sns\n",
    "import re\n",
    "from joblib import dump, load\n",
    "from joblib import Parallel, delayed  \n",
    "from tldextract import extract\n",
    "import matplotlib.pyplot as plt\n",
    "import warnings\n",
    "warnings.filterwarnings('ignore')\n",
    "%matplotlib inline\n",
    "\n",
    "\n",
    "pd.set_option('display.max_columns', None)\n",
    "pd.set_option('display.max_colwidth', None)\n",
    "\n",
    "name_suffix = \"[lang=en][topic=climatechange][platform=Twitter]\""
   ]
  },
  {
   "cell_type": "code",
   "execution_count": 2,
   "metadata": {},
   "outputs": [
    {
     "name": "stdout",
     "output_type": "stream",
     "text": [
      "<class 'pandas.core.frame.DataFrame'>\n",
      "RangeIndex: 39366 entries, 0 to 39365\n",
      "Data columns (total 83 columns):\n",
      " #   Column                                 Non-Null Count  Dtype \n",
      "---  ------                                 --------------  ----- \n",
      " 0   id                                     39366 non-null  object\n",
      " 1   conversation_id                        39366 non-null  object\n",
      " 2   referenced_tweets.replied_to.id        1180 non-null   object\n",
      " 3   referenced_tweets.retweeted.id         32393 non-null  object\n",
      " 4   referenced_tweets.quoted.id            435 non-null    object\n",
      " 5   author_id                              39366 non-null  object\n",
      " 6   in_reply_to_user_id                    1395 non-null   object\n",
      " 7   in_reply_to_username                   935 non-null    object\n",
      " 8   retweeted_user_id                      32393 non-null  object\n",
      " 9   retweeted_username                     32393 non-null  object\n",
      " 10  quoted_user_id                         435 non-null    object\n",
      " 11  quoted_username                        435 non-null    object\n",
      " 12  created_at                             39366 non-null  object\n",
      " 13  text                                   39366 non-null  object\n",
      " 14  lang                                   39366 non-null  object\n",
      " 15  source                                 7 non-null      object\n",
      " 16  public_metrics.impression_count        39366 non-null  object\n",
      " 17  public_metrics.reply_count             39366 non-null  object\n",
      " 18  public_metrics.retweet_count           39366 non-null  object\n",
      " 19  public_metrics.quote_count             39366 non-null  object\n",
      " 20  public_metrics.like_count              39366 non-null  object\n",
      " 21  reply_settings                         39366 non-null  object\n",
      " 22  edit_history_tweet_ids                 39366 non-null  object\n",
      " 23  edit_controls.edits_remaining          39366 non-null  object\n",
      " 24  edit_controls.editable_until           39366 non-null  object\n",
      " 25  edit_controls.is_edit_eligible         39366 non-null  object\n",
      " 26  possibly_sensitive                     39366 non-null  object\n",
      " 27  withheld.scope                         7 non-null      object\n",
      " 28  withheld.copyright                     235 non-null    object\n",
      " 29  withheld.country_codes                 235 non-null    object\n",
      " 30  entities.annotations                   33792 non-null  object\n",
      " 31  entities.cashtags                      8 non-null      object\n",
      " 32  entities.hashtags                      3978 non-null   object\n",
      " 33  entities.mentions                      6463 non-null   object\n",
      " 34  entities.urls                          13253 non-null  object\n",
      " 35  context_annotations                    38337 non-null  object\n",
      " 36  attachments.media                      3458 non-null   object\n",
      " 37  attachments.media_keys                 3458 non-null   object\n",
      " 38  attachments.poll.duration_minutes      7 non-null      object\n",
      " 39  attachments.poll.end_datetime          7 non-null      object\n",
      " 40  attachments.poll.id                    7 non-null      object\n",
      " 41  attachments.poll.options               7 non-null      object\n",
      " 42  attachments.poll.voting_status         7 non-null      object\n",
      " 43  attachments.poll_ids                   7 non-null      object\n",
      " 44  author.id                              39366 non-null  object\n",
      " 45  author.created_at                      39366 non-null  object\n",
      " 46  author.username                        39366 non-null  object\n",
      " 47  author.name                            39364 non-null  object\n",
      " 48  author.description                     32012 non-null  object\n",
      " 49  author.entities.description.cashtags   26 non-null     object\n",
      " 50  author.entities.description.hashtags   6236 non-null   object\n",
      " 51  author.entities.description.mentions   2928 non-null   object\n",
      " 52  author.entities.description.urls       1683 non-null   object\n",
      " 53  author.entities.url.urls               10122 non-null  object\n",
      " 54  author.url                             10122 non-null  object\n",
      " 55  author.location                        27691 non-null  object\n",
      " 56  author.pinned_tweet_id                 13337 non-null  object\n",
      " 57  author.profile_image_url               39364 non-null  object\n",
      " 58  author.protected                       39366 non-null  object\n",
      " 59  author.public_metrics.followers_count  39366 non-null  object\n",
      " 60  author.public_metrics.following_count  39366 non-null  object\n",
      " 61  author.public_metrics.listed_count     39366 non-null  object\n",
      " 62  author.public_metrics.tweet_count      39366 non-null  object\n",
      " 63  author.verified                        39366 non-null  object\n",
      " 64  author.verified_type                   7 non-null      object\n",
      " 65  author.withheld.scope                  7 non-null      object\n",
      " 66  author.withheld.copyright              7 non-null      object\n",
      " 67  author.withheld.country_codes          11 non-null     object\n",
      " 68  geo.coordinates.coordinates            17 non-null     object\n",
      " 69  geo.coordinates.type                   17 non-null     object\n",
      " 70  geo.country                            218 non-null    object\n",
      " 71  geo.country_code                       218 non-null    object\n",
      " 72  geo.full_name                          218 non-null    object\n",
      " 73  geo.geo.bbox                           218 non-null    object\n",
      " 74  geo.geo.type                           218 non-null    object\n",
      " 75  geo.id                                 218 non-null    object\n",
      " 76  geo.name                               218 non-null    object\n",
      " 77  geo.place_id                           218 non-null    object\n",
      " 78  geo.place_type                         218 non-null    object\n",
      " 79  matching_rules                         7 non-null      object\n",
      " 80  __twarc.retrieved_at                   39366 non-null  object\n",
      " 81  __twarc.url                            39366 non-null  object\n",
      " 82  __twarc.version                        39366 non-null  object\n",
      "dtypes: object(83)\n",
      "memory usage: 24.9+ MB\n"
     ]
    }
   ],
   "source": [
    "test = pd.read_csv(\"/mnt/data/wenlu/LLM_sentiment_affiliation/Twitter_filtering/data/csv_filtered/tweet[en+climatechange][1].csv\")\n",
    "test.info()"
   ]
  },
  {
   "cell_type": "code",
   "execution_count": 6,
   "metadata": {},
   "outputs": [
    {
     "name": "stdout",
     "output_type": "stream",
     "text": [
      "<class 'pandas.core.frame.DataFrame'>\n",
      "RangeIndex: 76596654 entries, 0 to 76596653\n",
      "Data columns (total 9 columns):\n",
      " #   Column                           Dtype  \n",
      "---  ------                           -----  \n",
      " 0   id                               int64  \n",
      " 1   conversation_id                  float64\n",
      " 2   referenced_tweets.replied_to.id  float64\n",
      " 3   author_id                        int64  \n",
      " 4   in_reply_to_user_id              float64\n",
      " 5   in_reply_to_username             object \n",
      " 6   created_at                       object \n",
      " 7   text                             object \n",
      " 8   author.username                  object \n",
      "dtypes: float64(3), int64(2), object(4)\n",
      "memory usage: 5.1+ GB\n"
     ]
    }
   ],
   "source": [
    "data_chunks = []\n",
    "\n",
    "for chunk in pd.read_csv(\n",
    "    \"/mnt/data/shared/climate_change/data.csv\", \n",
    "    usecols=['author.username','id','text', 'created_at','conversation_id', \n",
    "             'referenced_tweets.replied_to.id','author_id','in_reply_to_user_id',\n",
    "             'in_reply_to_username'], \n",
    "    chunksize=100000\n",
    "):\n",
    "    data_chunks.append(chunk)\n",
    "\n",
    "data = pd.concat(data_chunks, ignore_index=True)\n",
    "data.info()"
   ]
  },
  {
   "cell_type": "code",
   "execution_count": 7,
   "metadata": {},
   "outputs": [
    {
     "name": "stdout",
     "output_type": "stream",
     "text": [
      "<class 'pandas.core.frame.DataFrame'>\n",
      "RangeIndex: 76596654 entries, 0 to 76596653\n",
      "Data columns (total 9 columns):\n",
      " #   Column                           Dtype  \n",
      "---  ------                           -----  \n",
      " 0   id                               int64  \n",
      " 1   conversation_id                  float64\n",
      " 2   referenced_tweets.replied_to.id  float64\n",
      " 3   author_id                        int64  \n",
      " 4   in_reply_to_user_id              float64\n",
      " 5   in_reply_to_username             object \n",
      " 6   created_at                       object \n",
      " 7   text                             object \n",
      " 8   author.username                  object \n",
      "dtypes: float64(3), int64(2), object(4)\n",
      "memory usage: 5.1+ GB\n"
     ]
    }
   ],
   "source": [
    "data.to_csv(f\"data/full_data{name_suffix}.csv\", index = False)\n",
    "data.info()"
   ]
  },
  {
   "cell_type": "code",
   "execution_count": 3,
   "metadata": {},
   "outputs": [
    {
     "name": "stdout",
     "output_type": "stream",
     "text": [
      "<class 'pandas.core.frame.DataFrame'>\n",
      "RangeIndex: 76596654 entries, 0 to 76596653\n",
      "Data columns (total 9 columns):\n",
      " #   Column                           Dtype  \n",
      "---  ------                           -----  \n",
      " 0   id                               int64  \n",
      " 1   conversation_id                  float64\n",
      " 2   referenced_tweets.replied_to.id  float64\n",
      " 3   author_id                        int64  \n",
      " 4   in_reply_to_user_id              float64\n",
      " 5   in_reply_to_username             object \n",
      " 6   created_at                       object \n",
      " 7   text                             object \n",
      " 8   author.username                  object \n",
      "dtypes: float64(3), int64(2), object(4)\n",
      "memory usage: 5.1+ GB\n"
     ]
    }
   ],
   "source": [
    "df = pd.read_csv(f\"data/full_data{name_suffix}.csv\")\n",
    "df.info()"
   ]
  },
  {
   "cell_type": "code",
   "execution_count": 4,
   "metadata": {},
   "outputs": [],
   "source": [
    "a = df['author_id'].to_list()"
   ]
  },
  {
   "cell_type": "code",
   "execution_count": 4,
   "metadata": {},
   "outputs": [
    {
     "data": {
      "text/plain": [
       "76596654"
      ]
     },
     "execution_count": 4,
     "metadata": {},
     "output_type": "execute_result"
    }
   ],
   "source": [
    "len(a)"
   ]
  },
  {
   "cell_type": "code",
   "execution_count": 5,
   "metadata": {},
   "outputs": [
    {
     "data": {
      "text/plain": [
       "7720232"
      ]
     },
     "execution_count": 5,
     "metadata": {},
     "output_type": "execute_result"
    }
   ],
   "source": [
    "df2 = df.dropna(subset = ['in_reply_to_user_id'])\n",
    "b = df2['in_reply_to_user_id'].to_list()\n",
    "len(b)"
   ]
  },
  {
   "cell_type": "code",
   "execution_count": 6,
   "metadata": {},
   "outputs": [
    {
     "data": {
      "text/plain": [
       "1099265"
      ]
     },
     "execution_count": 6,
     "metadata": {},
     "output_type": "execute_result"
    }
   ],
   "source": [
    "retA = list(set(a).intersection(set(b)))\n",
    "len(retA)"
   ]
  },
  {
   "cell_type": "code",
   "execution_count": 7,
   "metadata": {},
   "outputs": [],
   "source": [
    "df_firstcomment = df[df['author_id'].isin(retA)]\n",
    "df_secondcomment = df[df['in_reply_to_user_id'].isin(retA)]"
   ]
  },
  {
   "cell_type": "code",
   "execution_count": 8,
   "metadata": {},
   "outputs": [],
   "source": [
    "df_firstcomment.to_csv(\"data/first_comment_fulldata.csv\", index=False)\n",
    "df_secondcomment.to_csv(\"data/second_comment_fulldata.csv\", index=False)"
   ]
  },
  {
   "cell_type": "code",
   "execution_count": null,
   "metadata": {},
   "outputs": [],
   "source": []
  },
  {
   "cell_type": "code",
   "execution_count": null,
   "metadata": {},
   "outputs": [
    {
     "data": {
      "image/png": "[encoded data removed]",
      "text/plain": [
       "<Figure size 1000x600 with 1 Axes>"
      ]
     },
     "metadata": {},
     "output_type": "display_data"
    }
   ],
   "source": [
    "# df = pd.read_csv(f\"data/full_data{name_suffix}.csv\")\n",
    "df = filtered_df\n",
    "\n",
    "df['created_at'] = pd.to_datetime(df['created_at'])\n",
    "df['date'] = df['created_at'].dt.date  \n",
    "\n",
    "# create a date range\n",
    "date_range = pd.date_range(start=df['date'].min(), end=df['date'].max())\n",
    "# calculate daily data amount\n",
    "daily_counts = df.groupby('date').size()  \n",
    "daily_counts = daily_counts.reindex(date_range, fill_value=0)\n",
    "\n",
    "plt.figure(figsize=(10, 6))\n",
    "\n",
    "sns.lineplot(data=daily_counts)\n",
    "\n",
    "ax=plt.gca()  #gca:get current axis\n",
    "ax.spines['right'].set_color('none')\n",
    "ax.spines['top'].set_color('none')\n",
    "\n",
    "plt.title('Twitter: daily number of tweets')\n",
    "plt.ylim((0,None))\n",
    "\n",
    "plt.xlabel('date')\n",
    "plt.ylabel('number')\n",
    "plt.savefig(\"pic/Twitter[climatechange]daily_number_of_tweets_v2.png\", dpi=300)\n",
    "plt.show()"
   ]
  },
  {
   "cell_type": "code",
   "execution_count": null,
   "metadata": {},
   "outputs": [
    {
     "data": {
      "text/html": [
       "<div>\n",
       "<style scoped>\n",
       "    .dataframe tbody tr th:only-of-type {\n",
       "        vertical-align: middle;\n",
       "    }\n",
       "\n",
       "    .dataframe tbody tr th {\n",
       "        vertical-align: top;\n",
       "    }\n",
       "\n",
       "    .dataframe thead th {\n",
       "        text-align: right;\n",
       "    }\n",
       "</style>\n",
       "<table border=\"1\" class=\"dataframe\">\n",
       "  <thead>\n",
       "    <tr style=\"text-align: right;\">\n",
       "      <th></th>\n",
       "      <th>created_at</th>\n",
       "    </tr>\n",
       "  </thead>\n",
       "  <tbody>\n",
       "    <tr>\n",
       "      <th>163</th>\n",
       "      <td>2019-06-29 23:29:51+00:00</td>\n",
       "    </tr>\n",
       "    <tr>\n",
       "      <th>465</th>\n",
       "      <td>2019-06-29 12:59:22+00:00</td>\n",
       "    </tr>\n",
       "    <tr>\n",
       "      <th>466</th>\n",
       "      <td>2019-06-29 22:43:09+00:00</td>\n",
       "    </tr>\n",
       "    <tr>\n",
       "      <th>797</th>\n",
       "      <td>2019-06-29 21:52:34+00:00</td>\n",
       "    </tr>\n",
       "    <tr>\n",
       "      <th>2400</th>\n",
       "      <td>2019-01-09 09:48:38+00:00</td>\n",
       "    </tr>\n",
       "    <tr>\n",
       "      <th>...</th>\n",
       "      <td>...</td>\n",
       "    </tr>\n",
       "    <tr>\n",
       "      <th>56857360</th>\n",
       "      <td>2018-10-16 06:05:31+00:00</td>\n",
       "    </tr>\n",
       "    <tr>\n",
       "      <th>56858621</th>\n",
       "      <td>2018-10-16 05:26:44+00:00</td>\n",
       "    </tr>\n",
       "    <tr>\n",
       "      <th>56867709</th>\n",
       "      <td>2018-10-16 02:06:24+00:00</td>\n",
       "    </tr>\n",
       "    <tr>\n",
       "      <th>56874056</th>\n",
       "      <td>2018-10-16 00:03:40+00:00</td>\n",
       "    </tr>\n",
       "    <tr>\n",
       "      <th>70396286</th>\n",
       "      <td>2017-07-10 22:23:14+00:00</td>\n",
       "    </tr>\n",
       "  </tbody>\n",
       "</table>\n",
       "<p>42774 rows × 1 columns</p>\n",
       "</div>"
      ],
      "text/plain": [
       "                        created_at\n",
       "163      2019-06-29 23:29:51+00:00\n",
       "465      2019-06-29 12:59:22+00:00\n",
       "466      2019-06-29 22:43:09+00:00\n",
       "797      2019-06-29 21:52:34+00:00\n",
       "2400     2019-01-09 09:48:38+00:00\n",
       "...                            ...\n",
       "56857360 2018-10-16 06:05:31+00:00\n",
       "56858621 2018-10-16 05:26:44+00:00\n",
       "56867709 2018-10-16 02:06:24+00:00\n",
       "56874056 2018-10-16 00:03:40+00:00\n",
       "70396286 2017-07-10 22:23:14+00:00\n",
       "\n",
       "[42774 rows x 1 columns]"
      ]
     },
     "execution_count": 19,
     "metadata": {},
     "output_type": "execute_result"
    }
   ],
   "source": [
    "\n",
    "start_date = pd.to_datetime('2017-1-1T00:00:00.000Z')\n",
    "end_date = pd.to_datetime('2023-12-31T00:00:00.000Z')\n",
    "df['created_at'] = pd.to_datetime(df['created_at'])\n",
    "data = df[(start_date < df['created_at']) & (df['created_at'] < end_date)]\n",
    "#data.to_csv(f\"data/full_data{name_suffix}.csv\", index=False)\n",
    "data.loc[:, ['created_at']]"
   ]
  },
  {
   "cell_type": "code",
   "execution_count": null,
   "metadata": {},
   "outputs": [
    {
     "name": "stdout",
     "output_type": "stream",
     "text": [
      "警告：2017-07 的数据不足84条, 跳过此月份。\n",
      "警告：2017-08 的数据不足84条, 跳过此月份。\n",
      "警告：2017-09 的数据不足84条, 跳过此月份。\n",
      "警告：2017-10 的数据不足84条, 跳过此月份。\n",
      "<class 'pandas.core.frame.DataFrame'>\n",
      "DatetimeIndex: 12200 entries, 2017-11-27 17:00:10+00:00 to 2022-11-08 19:02:05+00:00\n",
      "Data columns (total 10 columns):\n",
      " #   Column                           Non-Null Count  Dtype  \n",
      "---  ------                           --------------  -----  \n",
      " 0   id                               12200 non-null  int64  \n",
      " 1   conversation_id                  12200 non-null  float64\n",
      " 2   referenced_tweets.replied_to.id  9831 non-null   float64\n",
      " 3   author_id                        12200 non-null  int64  \n",
      " 4   in_reply_to_user_id              9831 non-null   float64\n",
      " 5   in_reply_to_username             3473 non-null   object \n",
      " 6   text                             12200 non-null  object \n",
      " 7   author.username                  12200 non-null  object \n",
      " 8   text length                      12200 non-null  int64  \n",
      " 9   date                             12200 non-null  object \n",
      "dtypes: float64(3), int64(3), object(4)\n",
      "memory usage: 1.0+ MB\n"
     ]
    }
   ],
   "source": [
    "import numpy as np\n",
    "\n",
    "sampled_data = pd.DataFrame()\n",
    "\n",
    "# Grouped and sampled according to each month\n",
    "for name, group in data.groupby(pd.Grouper(freq='M')):\n",
    "    if len(group) >= 200:  \n",
    "        sampled = group.sample(n=200, random_state=1)  \n",
    "        sampled_data = pd.concat([sampled_data, sampled])\n",
    "    else:\n",
    "        print(f\"警告：{name.strftime('%Y-%m')} 的数据不足200条, 跳过此月份。\")\n",
    "\n",
    "sampled_data.info()\n"
   ]
  },
  {
   "cell_type": "code",
   "execution_count": 34,
   "metadata": {},
   "outputs": [],
   "source": [
    "sampled_data.to_csv(f\"data/first_comment[time2017-2023][count:10000]{name_suffix}.csv\", index = False)"
   ]
  },
  {
   "cell_type": "markdown",
   "metadata": {},
   "source": [
    "## Data collect"
   ]
  },
  {
   "cell_type": "code",
   "execution_count": null,
   "metadata": {},
   "outputs": [
    {
     "name": "stdout",
     "output_type": "stream",
     "text": [
      "python 1_filter[multi_files][Twitter].py --keywords=\"['climate change', 'climate science', 'climate manipulation', 'climate Engineering', 'Climate Hacking', 'climate modification', 'climate science', 'Global Warming', 'carbon footprint', 'The Paris Agreement']\" --result_label=en+climatechange --file_number_range=\"(1, 27)\" --proc_num=3\n",
      "\n",
      "Arguments are listed bellow.\n",
      "keywords: ['climate change', 'climate science', 'climate manipulation', 'climate Engineering', 'Climate Hacking', 'climate modification', 'climate science', 'Global Warming', 'carbon footprint', 'The Paris Agreement']\n",
      "start_file_num: 1\n",
      "end_file_num: 27\n",
      "result_label: en+climatechange\n",
      "number of process: 3\n",
      "source_path: /mnt/data/Project7/fakenews/csv/\n",
      "target_path: data/csv_filtered/\n",
      "\n",
      "processing 15.csv ... ...\n",
      "processing 27.csv ... ...\n",
      "processing 23.csv ... ...\n",
      "23.csv processed.\n",
      "processing 16.csv ... ...\n",
      "15.csv processed.\n",
      "processing 10.csv ... ...\n",
      "27.csv processed.\n",
      "processing 12.csv ... ...\n",
      "16.csv processed.\n",
      "processing 5.csv ... ...\n",
      "10.csv processed.\n",
      "processing 21.csv ... ...\n",
      "12.csv processed.\n",
      "processing 9.csv ... ...\n",
      "5.csv processed.\n",
      "processing 8.csv ... ...\n",
      "21.csv processed.\n",
      "processing 7.csv ... ...\n",
      "9.csv processed.\n",
      "processing 20.csv ... ...\n",
      "8.csv processed.\n",
      "processing 13.csv ... ...\n",
      "7.csv processed.\n",
      "processing 25.csv ... ...\n",
      "20.csv processed.\n",
      "processing 6.csv ... ...\n",
      "13.csv processed.\n",
      "processing 2.csv ... ...\n",
      "tweet[en+climatechange][2].csv already exists.\n",
      "processing 24.csv ... ...\n",
      "6.csv processed.\n",
      "processing 4.csv ... ...\n",
      "25.csv processed.\n",
      "processing 19.csv ... ...\n",
      "4.csv processed.\n",
      "processing 22.csv ... ...\n",
      "24.csv processed.\n",
      "processing 26.csv ... ...\n",
      "19.csv processed.\n",
      "processing 14.csv ... ...\n",
      "22.csv processed.\n",
      "processing 3.csv ... ...\n",
      "26.csv processed.\n",
      "processing 18.csv ... ...\n",
      "14.csv processed.\n",
      "processing 1.csv ... ...\n",
      "tweet[en+climatechange][1].csv already exists.\n",
      "processing 11.csv ... ...\n",
      "3.csv processed.\n",
      "processing 17.csv ... ...\n",
      "18.csv processed.\n",
      "11.csv processed.\n",
      "17.csv processed.\n",
      "Done.\n"
     ]
    }
   ],
   "source": [
    "# keywords\n",
    "keywords = [\"climate change\", \"climate science\", \"climate manipulation\", \n",
    "            \"climate Engineering\", \"Climate Hacking\", \"climate modification\", \n",
    "            \"climate science\", \"Global Warming\", \"carbon footprint\", \n",
    "            \"The Paris Agreement\"]\n",
    "\n",
    "# settings for result filename\n",
    "label = 'en+climatechange'\n",
    "\n",
    "# set file range\n",
    "start_num = 1\n",
    "end_num = 27\n",
    "\n",
    "# file path\n",
    "source_path = \"/mnt/data/Project7/fakenews/csv/\"\n",
    "target_path = \"data/csv_filtered/\"\n",
    "\n",
    "# 运行\n",
    "cmd = ' '.join([\n",
    "        f'python 1_filter[multi_files][Twitter].py', \n",
    "        f'--keywords=\"{str(keywords)}\"', \n",
    "        f'--result_label={label}', \n",
    "        f'--file_number_range=\"{str((start_num, end_num))}\"', \n",
    "        f'--proc_num=3'\n",
    "    ])\n",
    "print(cmd)\n",
    "! {cmd} "
   ]
  },
  {
   "cell_type": "code",
   "execution_count": 12,
   "metadata": {},
   "outputs": [
    {
     "name": "stdout",
     "output_type": "stream",
     "text": [
      "<class 'pandas.core.frame.DataFrame'>\n",
      "RangeIndex: 654531 entries, 0 to 654530\n",
      "Data columns (total 83 columns):\n",
      " #   Column                                 Non-Null Count   Dtype \n",
      "---  ------                                 --------------   ----- \n",
      " 0   id                                     654531 non-null  object\n",
      " 1   conversation_id                        654531 non-null  object\n",
      " 2   referenced_tweets.replied_to.id        69933 non-null   object\n",
      " 3   referenced_tweets.retweeted.id         506070 non-null  object\n",
      " 4   referenced_tweets.quoted.id            13694 non-null   object\n",
      " 5   author_id                              654531 non-null  object\n",
      " 6   in_reply_to_user_id                    73433 non-null   object\n",
      " 7   in_reply_to_username                   58866 non-null   object\n",
      " 8   retweeted_user_id                      506070 non-null  object\n",
      " 9   retweeted_username                     506070 non-null  object\n",
      " 10  quoted_user_id                         13694 non-null   object\n",
      " 11  quoted_username                        13694 non-null   object\n",
      " 12  created_at                             654531 non-null  object\n",
      " 13  text                                   654531 non-null  object\n",
      " 14  lang                                   654531 non-null  object\n",
      " 15  source                                 0 non-null       object\n",
      " 16  public_metrics.impression_count        654531 non-null  object\n",
      " 17  public_metrics.reply_count             654531 non-null  object\n",
      " 18  public_metrics.retweet_count           654531 non-null  object\n",
      " 19  public_metrics.quote_count             654531 non-null  object\n",
      " 20  public_metrics.like_count              654531 non-null  object\n",
      " 21  reply_settings                         654531 non-null  object\n",
      " 22  edit_history_tweet_ids                 654531 non-null  object\n",
      " 23  edit_controls.edits_remaining          654522 non-null  object\n",
      " 24  edit_controls.editable_until           654522 non-null  object\n",
      " 25  edit_controls.is_edit_eligible         654522 non-null  object\n",
      " 26  possibly_sensitive                     654531 non-null  object\n",
      " 27  withheld.scope                         0 non-null       object\n",
      " 28  withheld.copyright                     1044 non-null    object\n",
      " 29  withheld.country_codes                 1044 non-null    object\n",
      " 30  entities.annotations                   479330 non-null  object\n",
      " 31  entities.cashtags                      220 non-null     object\n",
      " 32  entities.hashtags                      108665 non-null  object\n",
      " 33  entities.mentions                      259717 non-null  object\n",
      " 34  entities.urls                          397501 non-null  object\n",
      " 35  context_annotations                    643303 non-null  object\n",
      " 36  attachments.media                      116635 non-null  object\n",
      " 37  attachments.media_keys                 116635 non-null  object\n",
      " 38  attachments.poll.duration_minutes      120 non-null     object\n",
      " 39  attachments.poll.end_datetime          120 non-null     object\n",
      " 40  attachments.poll.id                    120 non-null     object\n",
      " 41  attachments.poll.options               120 non-null     object\n",
      " 42  attachments.poll.voting_status         120 non-null     object\n",
      " 43  attachments.poll_ids                   120 non-null     object\n",
      " 44  author.id                              654531 non-null  object\n",
      " 45  author.created_at                      654531 non-null  object\n",
      " 46  author.username                        654531 non-null  object\n",
      " 47  author.name                            654485 non-null  object\n",
      " 48  author.description                     545513 non-null  object\n",
      " 49  author.entities.description.cashtags   797 non-null     object\n",
      " 50  author.entities.description.hashtags   115830 non-null  object\n",
      " 51  author.entities.description.mentions   55945 non-null   object\n",
      " 52  author.entities.description.urls       31953 non-null   object\n",
      " 53  author.entities.url.urls               153282 non-null  object\n",
      " 54  author.url                             153282 non-null  object\n",
      " 55  author.location                        441540 non-null  object\n",
      " 56  author.pinned_tweet_id                 251600 non-null  object\n",
      " 57  author.profile_image_url               654504 non-null  object\n",
      " 58  author.protected                       654531 non-null  object\n",
      " 59  author.public_metrics.followers_count  654531 non-null  object\n",
      " 60  author.public_metrics.following_count  654531 non-null  object\n",
      " 61  author.public_metrics.listed_count     654531 non-null  object\n",
      " 62  author.public_metrics.tweet_count      654531 non-null  object\n",
      " 63  author.verified                        654531 non-null  object\n",
      " 64  author.verified_type                   0 non-null       object\n",
      " 65  author.withheld.scope                  0 non-null       object\n",
      " 66  author.withheld.copyright              0 non-null       object\n",
      " 67  author.withheld.country_codes          76 non-null      object\n",
      " 68  geo.coordinates.coordinates            53 non-null      object\n",
      " 69  geo.coordinates.type                   53 non-null      object\n",
      " 70  geo.country                            3325 non-null    object\n",
      " 71  geo.country_code                       3325 non-null    object\n",
      " 72  geo.full_name                          3325 non-null    object\n",
      " 73  geo.geo.bbox                           3325 non-null    object\n",
      " 74  geo.geo.type                           3325 non-null    object\n",
      " 75  geo.id                                 3325 non-null    object\n",
      " 76  geo.name                               3325 non-null    object\n",
      " 77  geo.place_id                           3325 non-null    object\n",
      " 78  geo.place_type                         3325 non-null    object\n",
      " 79  matching_rules                         0 non-null       object\n",
      " 80  __twarc.retrieved_at                   654531 non-null  object\n",
      " 81  __twarc.url                            654531 non-null  object\n",
      " 82  __twarc.version                        654531 non-null  object\n",
      "dtypes: object(83)\n",
      "memory usage: 414.5+ MB\n"
     ]
    }
   ],
   "source": [
    "df.info()"
   ]
  }
 ],
 "metadata": {
  "kernelspec": {
   "display_name": "reddit",
   "language": "python",
   "name": "python3"
  },
  "language_info": {
   "codemirror_mode": {
    "name": "ipython",
    "version": 3
   },
   "file_extension": ".py",
   "mimetype": "text/x-python",
   "name": "python",
   "nbconvert_exporter": "python",
   "pygments_lexer": "ipython3",
   "version": "3.7.16"
  }
 },
 "nbformat": 4,
 "nbformat_minor": 2
}
