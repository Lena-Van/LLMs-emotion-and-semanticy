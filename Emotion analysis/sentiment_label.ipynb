{
 "cells": [
  {
   "cell_type": "code",
   "execution_count": null,
   "metadata": {},
   "outputs": [
    {
     "name": "stderr",
     "output_type": "stream",
     "text": [
      "/home/wenlu/anaconda3/envs/HF/lib/python3.10/site-packages/transformers/modeling_utils.py:367: FutureWarning: You are using `torch.load` with `weights_only=False` (the current default value), which uses the default pickle module implicitly. It is possible to construct malicious pickle data which will execute arbitrary code during unpickling (See https://github.com/pytorch/pytorch/blob/main/SECURITY.md#untrusted-models for more details). In a future release, the default value for `weights_only` will be flipped to `True`. This limits the functions that could be executed during unpickling. Arbitrary objects will no longer be allowed to be loaded via this mode unless they are explicitly allowlisted by the user via `torch.serialization.add_safe_globals`. We recommend you start setting `weights_only=True` for any use case where you don't have full control of the loaded file. Please open an issue on GitHub for any issues related to this experimental feature.\n",
      "  return torch.load(checkpoint_file, map_location=\"cuda\")\n"
     ]
    }
   ],
   "source": [
    "# load the model\n",
    "from transformers import AutoTokenizer, AutoModelForSequenceClassification\n",
    "from transformers import pipeline\n",
    "import torch\n",
    "# set GPU\n",
    "device = torch.device(\"cuda\" if torch.cuda.is_available() else \"cpu\")\n",
    "\n",
    "tokenizer = AutoTokenizer.from_pretrained(\"SchuylerH/bert-multilingual-go-emtions\")\n",
    "model = AutoModelForSequenceClassification.from_pretrained(\"SchuylerH/bert-multilingual-go-emtions\")\n",
    "\n",
    "\n",
    "pipe = pipeline(\n",
    "    \"sentiment-analysis\", model = model,tokenizer = tokenizer,\n",
    "    truncation=True,\n",
    "    device=0 if torch.cuda.is_available() else -1  # 0: 1st GPU，-1:CPU\n",
    ")\n",
    "\n",
    "MAX_LENGTH = 512\n",
    "\n",
    "def truncate_text(text, max_length=MAX_LENGTH):\n",
    "    return text[:max_length]\n",
    "\n",
    "# get all labels and scores\n",
    "def get_sentiment(text):\n",
    "    truncated_text = truncate_text(text)\n",
    "    result = pipe(truncated_text)\n",
    "    sentiment_scores = {item['label']: item['score'] for item in result}\n",
    "    \n",
    "    return sentiment_scores"
   ]
  },
  {
   "cell_type": "code",
   "execution_count": null,
   "metadata": {},
   "outputs": [],
   "source": [
    "# load data\n",
    "df = pd.read_csv(\"data/selected_data[7_emotions].csv\")\n",
    "df.info()"
   ]
  },
  {
   "cell_type": "code",
   "execution_count": null,
   "metadata": {},
   "outputs": [
    {
     "name": "stderr",
     "output_type": "stream",
     "text": [
      "Analyzing sentiments:   0%|          | 1/210 [00:00<00:41,  5.04it/s]/home/wenlu/anaconda3/envs/HF/lib/python3.10/site-packages/transformers/pipelines/base.py:1036: UserWarning: You seem to be using the pipelines sequentially on GPU. In order to maximize efficiency please use a dataset\n",
      "  warnings.warn(\n",
      "Analyzing sentiments: 100%|██████████| 210/210 [00:01<00:00, 129.62it/s]\n"
     ]
    }
   ],
   "source": [
    "sentiment_results = []\n",
    "\n",
    "\n",
    "for user_text in tqdm(df['text'], desc=\"Analyzing sentiments\"):\n",
    "    sentiment_scores = get_sentiment(user_text)\n",
    "    sentiment_results.append(sentiment_scores)\n",
    "\n",
    "\n",
    "df['sentiment_scores[orginal text]'] = sentiment_results\n",
    "\n",
    "df['label[orginal text]'] = [list(scores.keys())[0] for scores in sentiment_results]\n",
    "df['score[orginal text]'] = [list(scores.values())[0] for scores in sentiment_results]\n"
   ]
  },
  {
   "cell_type": "code",
   "execution_count": 1,
   "metadata": {},
   "outputs": [
    {
     "data": {
      "text/plain": [
       "<Response [200]>"
      ]
     },
     "execution_count": 1,
     "metadata": {},
     "output_type": "execute_result"
    }
   ],
   "source": [
    "import requests\n",
    "requests.get(\"https://www.google.com\")"
   ]
  }
 ],
 "metadata": {
  "kernelspec": {
   "display_name": "angent",
   "language": "python",
   "name": "python3"
  },
  "language_info": {
   "codemirror_mode": {
    "name": "ipython",
    "version": 3
   },
   "file_extension": ".py",
   "mimetype": "text/x-python",
   "name": "python",
   "nbconvert_exporter": "python",
   "pygments_lexer": "ipython3",
   "version": "3.10.14"
  }
 },
 "nbformat": 4,
 "nbformat_minor": 2
}
