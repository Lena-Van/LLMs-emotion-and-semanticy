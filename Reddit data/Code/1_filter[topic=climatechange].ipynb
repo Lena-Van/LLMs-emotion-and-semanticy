{
 "cells": [
  {
   "cell_type": "markdown",
   "metadata": {},
   "source": [
    "# Filter posts on the reddit related to the ***Climate change***\n",
    "\n",
    "python=3.7"
   ]
  },
  {
   "cell_type": "code",
   "execution_count": 1,
   "metadata": {},
   "outputs": [],
   "source": [
    "import pandas as pd\n",
    "from joblib import Parallel, delayed  # parallel computing\n",
    "from joblib import dump, load\n",
    "import matplotlib.pyplot as plt\n",
    "import seaborn as sns\n",
    "import warnings\n",
    "warnings.filterwarnings('ignore')\n",
    "\n",
    "# show all columns in the DataFrame\n",
    "pd.set_option('display.max_columns', None)\n",
    "# fully display the content in displayed table cells\n",
    "pd.set_option('display.max_colwidth', None)"
   ]
  },
  {
   "cell_type": "markdown",
   "metadata": {},
   "source": [
    "## Use keywords to select comments related to ***climatechange***"
   ]
  },
  {
   "cell_type": "code",
   "execution_count": null,
   "metadata": {},
   "outputs": [],
   "source": [
    "# Filtering using topic keywords\n",
    "import os\n",
    "import re\n",
    "from datetime import datetime\n",
    "import pandas as pd\n",
    "from multiprocessing import Pool\n",
    "\n",
    "# keywords\n",
    "keywords = [\"climate change\", \"climate science\", \"climate manipulation\", \"climate Engineering\", \"Climate Hacking\", \n",
    "            \"climate modification\", \"climate science\", \"Global Warming\", \"carbon footprint\", \"The Paris Agreement\"]\n",
    "\n",
    "# file path\n",
    "source_path = \"/mnt/data/reddit/reddit/RC/\"\n",
    "target_path = \"data/csv_filtered/\"\n",
    "\n",
    "# set time range\n",
    "start_date = datetime.strptime(\"2020-09\", \"%Y-%m\")\n",
    "end_date = datetime.strptime(\"2020-01\", \"%Y-%m\")\n",
    "\n",
    "# settings for result filename\n",
    "label = 'en+climate change'\n",
    "content = 'comment'\n",
    "\n",
    "# format of source filename\n",
    "date_str_pattern = r'RC_(.*?)\\.zst\\.csv'\n",
    "\n",
    "# other settings\n",
    "chunksize = 1e6\n",
    "proc_num = 13\n",
    "\n",
    "def process_file(source_name):\n",
    "    # check file name\n",
    "    mtch = re.search(date_str_pattern, source_name)\n",
    "    if mtch:\n",
    "        # get date from file name\n",
    "        date_str = mtch.group(1)\n",
    "        file_date = datetime.strptime(date_str, '%Y-%m')\n",
    "        \n",
    "        # check if the date in time range. if yes, process the file.\n",
    "        if start_date <= file_date <= end_date:\n",
    "            print(f\"processing {source_name} ... ...\\n\", end='')\n",
    "            target_name = f\"{content}[{label}][{date_str}].csv\"\n",
    "\n",
    "            # check if the target file already exists\n",
    "            if os.path.exists(target_path + target_name):\n",
    "                print(f\"{target_name} already exists.\\n\", end='')\n",
    "                return\n",
    "\n",
    "            try:\n",
    "                for chunk in pd.read_csv(source_path + source_name, chunksize=chunksize, engine='python'):\n",
    "                    df = chunk[chunk['body'].astype(str).str.contains('|'.join(keywords), case=False)]\n",
    "                    df.to_csv(target_path + target_name, mode='a', index=False)\n",
    "                print(f\"{source_name} processed.\\n\", end='')\n",
    "            except Exception as e:\n",
    "                print(f\"failed processing {source_name}.\\n{e}\\n\", end='')\n",
    "\n",
    "# get a list of files\n",
    "files = os.listdir(source_path)\n",
    "\n",
    "# create a pool of workers\n",
    "with Pool(processes=proc_num) as pool:\n",
    "    pool.map(process_file, files)\n",
    "\n",
    "\n",
    "\n",
    "print(\"Done.\")"
   ]
  },
  {
   "cell_type": "code",
   "execution_count": null,
   "metadata": {},
   "outputs": [
    {
     "name": "stdout",
     "output_type": "stream",
     "text": [
      "data/csv_filtered/comment[en+climatechange][2020-09].csv\n",
      "data/csv_filtered/comment[en+climatechange][2019-03].csv\n",
      "data/csv_filtered/comment[en+climatechange][2022-05].csv\n",
      "data/csv_filtered/comment[en+climatechange][2015-04].csv\n",
      "data/csv_filtered/comment[en+climatechange][2014-05].csv\n",
      "data/csv_filtered/comment[en+climatechange][2017-10].csv\n",
      "data/csv_filtered/comment[en+climatechange][2014-08].csv\n",
      "data/csv_filtered/comment[en+climatechange][2018-06].csv\n",
      "data/csv_filtered/comment[en+climatechange][2019-08].csv\n",
      "data/csv_filtered/comment[en+climatechange][2021-09].csv\n",
      "data/csv_filtered/comment[en+climatechange][2019-10].csv\n",
      "data/csv_filtered/comment[en+climatechange][2016-02].csv\n",
      "data/csv_filtered/comment[en+climatechange][2020-02].csv\n",
      "data/csv_filtered/comment[en+climatechange][2015-05].csv\n",
      "data/csv_filtered/comment[en+climatechange][2015-12].csv\n",
      "data/csv_filtered/comment[en+climatechange][2022-04].csv\n",
      "data/csv_filtered/comment[en+climatechange][2019-06].csv\n",
      "data/csv_filtered/comment[en+climatechange][2014-09].csv\n",
      "data/csv_filtered/comment[en+climatechange][2020-01].csv\n",
      "data/csv_filtered/comment[en+climatechange][2018-08].csv\n",
      "data/csv_filtered/comment[en+climatechange][2014-02].csv\n",
      "data/csv_filtered/comment[en+climatechange][2016-05].csv\n",
      "data/csv_filtered/comment[en+climatechange][2020-12].csv\n",
      "data/csv_filtered/comment[en+climatechange][2017-03].csv\n",
      "data/csv_filtered/comment[en+climatechange][2022-10].csv\n",
      "data/csv_filtered/comment[en+climatechange][2018-05].csv\n",
      "data/csv_filtered/comment[en+climatechange][2019-11].csv\n",
      "data/csv_filtered/comment[en+climatechange][2014-01].csv\n",
      "data/csv_filtered/comment[en+climatechange][2021-12].csv\n",
      "data/csv_filtered/comment[en+climatechange][2014-10].csv\n",
      "data/csv_filtered/comment[en+climatechange][2019-01].csv\n",
      "data/csv_filtered/comment[en+climatechange][2017-06].csv\n",
      "data/csv_filtered/comment[en+climatechange][2017-01].csv\n",
      "data/csv_filtered/comment[en+climatechange][2014-07].csv\n",
      "data/csv_filtered/comment[en+climatechange][2020-03].csv\n",
      "data/csv_filtered/comment[en+climatechange][2014-03].csv\n",
      "data/csv_filtered/comment[en+climatechange][2021-04].csv\n",
      "data/csv_filtered/comment[en+climatechange][2017-02].csv\n",
      "data/csv_filtered/comment[en+climatechange][2022-09].csv\n",
      "data/csv_filtered/comment[en+climatechange][2015-10].csv\n",
      "data/csv_filtered/comment[en+climatechange][2021-02].csv\n",
      "data/csv_filtered/comment[en+climatechange][2021-06].csv\n",
      "data/csv_filtered/comment[en+climatechange][2017-05].csv\n",
      "data/csv_filtered/comment[en+climatechange][2022-03].csv\n",
      "data/csv_filtered/comment[en+climatechange][2017-11].csv\n",
      "data/csv_filtered/comment[en+climatechange][2016-04].csv\n",
      "data/csv_filtered/comment[en+climatechange][2017-04].csv\n",
      "data/csv_filtered/comment[en+climatechange][2015-07].csv\n",
      "data/csv_filtered/comment[en+climatechange][2019-04].csv\n",
      "data/csv_filtered/comment[en+climatechange][2021-07].csv\n",
      "data/csv_filtered/comment[en+climatechange][2016-09].csv\n",
      "data/csv_filtered/comment[en+climatechange][2014-12].csv\n",
      "data/csv_filtered/comment[en+climatechange][2015-06].csv\n",
      "data/csv_filtered/comment[en+climatechange][2016-06].csv\n",
      "data/csv_filtered/comment[en+climatechange][2016-08].csv\n",
      "data/csv_filtered/comment[en+climatechange][2014-06].csv\n",
      "data/csv_filtered/comment[en+climatechange][2015-03].csv\n",
      "data/csv_filtered/comment[en+climatechange][2015-02].csv\n",
      "data/csv_filtered/comment[en+climatechange][2021-05].csv\n",
      "data/csv_filtered/comment[en+climatechange][2020-08].csv\n",
      "data/csv_filtered/comment[en+climatechange][2022-01].csv\n",
      "data/csv_filtered/comment[en+climatechange][2020-04].csv\n",
      "data/csv_filtered/comment[en+climatechange][2016-01].csv\n",
      "data/csv_filtered/comment[en+climatechange][2016-12].csv\n",
      "data/csv_filtered/comment[en+climatechange][2020-10].csv\n",
      "data/csv_filtered/comment[en+climatechange][2021-01].csv\n",
      "data/csv_filtered/comment[en+climatechange][2015-11].csv\n",
      "data/csv_filtered/comment[en+climatechange][2017-09].csv\n",
      "data/csv_filtered/comment[en+climatechange][2018-04].csv\n",
      "data/csv_filtered/comment[en+climatechange][2016-10].csv\n",
      "data/csv_filtered/comment[en+climatechange][2017-12].csv\n",
      "data/csv_filtered/comment[en+climatechange][2022-06].csv\n",
      "data/csv_filtered/comment[en+climatechange][2016-03].csv\n",
      "data/csv_filtered/comment[en+climatechange][2022-07].csv\n",
      "data/csv_filtered/comment[en+climatechange][2018-10].csv\n",
      "data/csv_filtered/comment[en+climatechange][2018-03].csv\n",
      "data/csv_filtered/comment[en+climatechange][2022-11].csv\n",
      "data/csv_filtered/comment[en+climatechange][2014-11].csv\n",
      "data/csv_filtered/comment[en+climatechange][2022-12].csv\n",
      "data/csv_filtered/comment[en+climatechange][2019-07].csv\n",
      "data/csv_filtered/comment[en+climatechange][2022-08].csv\n",
      "data/csv_filtered/comment[en+climatechange][2020-11].csv\n",
      "data/csv_filtered/comment[en+climatechange][2021-11].csv\n",
      "data/csv_filtered/comment[en+climatechange][2021-10].csv\n",
      "data/csv_filtered/comment[en+climatechange][2021-08].csv\n",
      "data/csv_filtered/comment[en+climatechange][2022-02].csv\n",
      "data/csv_filtered/comment[en+climatechange][2019-05].csv\n",
      "data/csv_filtered/comment[en+climatechange][2017-08].csv\n",
      "data/csv_filtered/comment[en+climatechange][2020-05].csv\n",
      "data/csv_filtered/comment[en+climatechange][2018-11].csv\n",
      "data/csv_filtered/comment[en+climatechange][2018-09].csv\n",
      "data/csv_filtered/comment[en+climatechange][2017-07].csv\n",
      "data/csv_filtered/comment[en+climatechange][2021-03].csv\n",
      "data/csv_filtered/comment[en+climatechange][2015-08].csv\n",
      "data/csv_filtered/comment[en+climatechange][2018-07].csv\n",
      "data/csv_filtered/comment[en+climatechange][2018-02].csv\n",
      "data/csv_filtered/comment[en+climatechange][2015-09].csv\n",
      "data/csv_filtered/comment[en+climatechange][2016-11].csv\n",
      "data/csv_filtered/comment[en+climatechange][2019-09].csv\n",
      "data/csv_filtered/comment[en+climatechange][2019-02].csv\n",
      "data/csv_filtered/comment[en+climatechange][2020-07].csv\n",
      "data/csv_filtered/comment[en+climatechange][2016-07].csv\n",
      "data/csv_filtered/comment[en+climatechange][2015-01].csv\n",
      "data/csv_filtered/comment[en+climatechange][2019-12].csv\n",
      "data/csv_filtered/comment[en+climatechange][2018-01].csv\n",
      "data/csv_filtered/comment[en+climatechange][2014-04].csv\n",
      "data/csv_filtered/comment[en+climatechange][2020-06].csv\n",
      "data/csv_filtered/comment[en+climatechange][2018-12].csv\n",
      "<class 'pandas.core.frame.DataFrame'>\n",
      "RangeIndex: 5916746 entries, 0 to 5916745\n",
      "Data columns (total 8 columns):\n",
      " #   Column        Dtype \n",
      "---  ------        ----- \n",
      " 0   created_utc   object\n",
      " 1   author        object\n",
      " 2   subreddit     object\n",
      " 3   body          object\n",
      " 4   parent_id     object\n",
      " 5   subreddit_id  object\n",
      " 6   id            object\n",
      " 7   lang          object\n",
      "dtypes: object(8)\n",
      "memory usage: 361.1+ MB\n"
     ]
    }
   ],
   "source": [
    "import os\n",
    "\n",
    "folder_path = 'data/csv_filtered'\n",
    "all_data = pd.DataFrame()\n",
    "\n",
    "# os.listdir() check the file cotaining the name\n",
    "for filename in os.listdir(folder_path):\n",
    "    file_path = os.path.join(folder_path, filename)\n",
    "    if os.path.isfile(file_path) and filename.endswith('.csv'):\n",
    "        print(file_path)\n",
    "        df = pd.read_csv(file_path, engine='python')\n",
    "        all_data = all_data.append(df, ignore_index=True)\n",
    "\n",
    "all_data.info()"
   ]
  },
  {
   "cell_type": "code",
   "execution_count": 3,
   "metadata": {},
   "outputs": [
    {
     "data": {
      "text/plain": [
       "5768822"
      ]
     },
     "execution_count": 3,
     "metadata": {},
     "output_type": "execute_result"
    }
   ],
   "source": [
    "# considering four possibilities\n",
    "df=all_data.query(\"author !='[deleted]' & body!='[deleted]'\")\n",
    "df=all_data.query(\"author !='[removed]' & body!='[deleted]'\")\n",
    "df=all_data.query(\"author !='[removed]' & body!='[removed]'\")\n",
    "df=all_data.query(\"author !='[deleted]' & body!='[removed]'\")\n",
    "len(df)"
   ]
  },
  {
   "cell_type": "code",
   "execution_count": 4,
   "metadata": {},
   "outputs": [
    {
     "data": {
      "text/plain": [
       "5768822"
      ]
     },
     "execution_count": 4,
     "metadata": {},
     "output_type": "execute_result"
    }
   ],
   "source": [
    "# considering four possibilities\n",
    "df=all_data.query(\"author !='[deleted]' & body!='[deleted]'\")\n",
    "df=df.query(\"author !='[removed]' & body!='[deleted]'\")\n",
    "df=df.query(\"author !='[removed]' & body!='[removed]'\")\n",
    "df=df.query(\"author !='[deleted]' & body!='[removed]'\")\n",
    "len(df)"
   ]
  },
  {
   "cell_type": "code",
   "execution_count": 4,
   "metadata": {},
   "outputs": [
    {
     "name": "stdout",
     "output_type": "stream",
     "text": [
      "<class 'pandas.core.frame.DataFrame'>\n",
      "Int64Index: 5768822 entries, 0 to 5916745\n",
      "Data columns (total 8 columns):\n",
      " #   Column        Dtype \n",
      "---  ------        ----- \n",
      " 0   created_utc   object\n",
      " 1   author        object\n",
      " 2   subreddit     object\n",
      " 3   body          object\n",
      " 4   parent_id     object\n",
      " 5   subreddit_id  object\n",
      " 6   id            object\n",
      " 7   lang          object\n",
      "dtypes: object(8)\n",
      "memory usage: 396.1+ MB\n"
     ]
    }
   ],
   "source": [
    "df.info()"
   ]
  },
  {
   "cell_type": "code",
   "execution_count": 5,
   "metadata": {},
   "outputs": [
    {
     "data": {
      "text/html": [
       "<div>\n",
       "<style scoped>\n",
       "    .dataframe tbody tr th:only-of-type {\n",
       "        vertical-align: middle;\n",
       "    }\n",
       "\n",
       "    .dataframe tbody tr th {\n",
       "        vertical-align: top;\n",
       "    }\n",
       "\n",
       "    .dataframe thead th {\n",
       "        text-align: right;\n",
       "    }\n",
       "</style>\n",
       "<table border=\"1\" class=\"dataframe\">\n",
       "  <thead>\n",
       "    <tr style=\"text-align: right;\">\n",
       "      <th></th>\n",
       "      <th>parent_id</th>\n",
       "      <th>id</th>\n",
       "    </tr>\n",
       "  </thead>\n",
       "  <tbody>\n",
       "    <tr>\n",
       "      <th>0</th>\n",
       "      <td>t3_ijyh52</td>\n",
       "      <td>ijyh52</td>\n",
       "    </tr>\n",
       "    <tr>\n",
       "      <th>1</th>\n",
       "      <td>t3_ijvrh3</td>\n",
       "      <td>ijvrh3</td>\n",
       "    </tr>\n",
       "    <tr>\n",
       "      <th>2</th>\n",
       "      <td>t1_g3j2del</td>\n",
       "      <td>g3j2del</td>\n",
       "    </tr>\n",
       "    <tr>\n",
       "      <th>3</th>\n",
       "      <td>t1_g3irl2x</td>\n",
       "      <td>g3irl2x</td>\n",
       "    </tr>\n",
       "    <tr>\n",
       "      <th>4</th>\n",
       "      <td>t1_g3j5mvx</td>\n",
       "      <td>g3j5mvx</td>\n",
       "    </tr>\n",
       "  </tbody>\n",
       "</table>\n",
       "</div>"
      ],
      "text/plain": [
       "    parent_id       id\n",
       "0   t3_ijyh52   ijyh52\n",
       "1   t3_ijvrh3   ijvrh3\n",
       "2  t1_g3j2del  g3j2del\n",
       "3  t1_g3irl2x  g3irl2x\n",
       "4  t1_g3j5mvx  g3j5mvx"
      ]
     },
     "execution_count": 5,
     "metadata": {},
     "output_type": "execute_result"
    }
   ],
   "source": [
    "comment_user_list = df[['parent_id']]\n",
    "comment_user_list['id'] = comment_user_list['parent_id'].str.replace('^t\\d+_', '')\n",
    "comment_user_list.head(5)"
   ]
  },
  {
   "cell_type": "code",
   "execution_count": null,
   "metadata": {},
   "outputs": [
    {
     "name": "stdout",
     "output_type": "stream",
     "text": [
      "<class 'pandas.core.frame.DataFrame'>\n",
      "Int64Index: 818296 entries, 64 to 5916745\n",
      "Data columns (total 8 columns):\n",
      " #   Column        Non-Null Count   Dtype \n",
      "---  ------        --------------   ----- \n",
      " 0   created_utc   818285 non-null  object\n",
      " 1   author        818237 non-null  object\n",
      " 2   subreddit     818237 non-null  object\n",
      " 3   body          818231 non-null  object\n",
      " 4   parent_id     818009 non-null  object\n",
      " 5   subreddit_id  818009 non-null  object\n",
      " 6   id            818009 non-null  object\n",
      " 7   lang          22920 non-null   object\n",
      "dtypes: object(8)\n",
      "memory usage: 56.2+ MB\n"
     ]
    }
   ],
   "source": [
    "# first class comments\n",
    "first_com = df[df['id'].isin(comment_user_list['id'].to_list())]\n",
    "first_com.info()"
   ]
  },
  {
   "cell_type": "code",
   "execution_count": null,
   "metadata": {},
   "outputs": [
    {
     "name": "stdout",
     "output_type": "stream",
     "text": [
      "<class 'pandas.core.frame.DataFrame'>\n",
      "DatetimeIndex: 239172 entries, 2020-09-01 to 2019-01-01\n",
      "Data columns (total 9 columns):\n",
      " #   Column        Non-Null Count   Dtype         \n",
      "---  ------        --------------   -----         \n",
      " 0   Unnamed: 0    239172 non-null  int64         \n",
      " 1   created_utc   239172 non-null  datetime64[ns]\n",
      " 2   author        239172 non-null  object        \n",
      " 3   subreddit     239172 non-null  object        \n",
      " 4   body          239172 non-null  object        \n",
      " 5   parent_id     239172 non-null  object        \n",
      " 6   subreddit_id  239172 non-null  object        \n",
      " 7   id            239172 non-null  object        \n",
      " 8   lang          6222 non-null    object        \n",
      "dtypes: datetime64[ns](1), int64(1), object(7)\n",
      "memory usage: 18.2+ MB\n"
     ]
    }
   ],
   "source": [
    "# second class comment\n",
    "second_com_user = comment_user_list[comment_user_list['id'].isin(first_com['id'].to_list())]\n",
    "\n",
    "second_com = df[df['parent_id'].isin(second_com_user['parent_id'].to_list())]\n",
    "second_com.info()"
   ]
  },
  {
   "cell_type": "code",
   "execution_count": 7,
   "metadata": {},
   "outputs": [],
   "source": [
    "first_com.to_csv(\"data/1st_Reddit_comments[topic=climatechange][time:2014-2022][lang=en].csv\")"
   ]
  },
  {
   "cell_type": "code",
   "execution_count": 25,
   "metadata": {},
   "outputs": [
    {
     "name": "stdout",
     "output_type": "stream",
     "text": [
      "<class 'pandas.core.frame.DataFrame'>\n",
      "RangeIndex: 818296 entries, 0 to 818295\n",
      "Data columns (total 9 columns):\n",
      " #   Column        Non-Null Count   Dtype \n",
      "---  ------        --------------   ----- \n",
      " 0   Unnamed: 0    818296 non-null  int64 \n",
      " 1   created_utc   818285 non-null  object\n",
      " 2   author        818237 non-null  object\n",
      " 3   subreddit     818237 non-null  object\n",
      " 4   body          818231 non-null  object\n",
      " 5   parent_id     818009 non-null  object\n",
      " 6   subreddit_id  818009 non-null  object\n",
      " 7   id            818009 non-null  object\n",
      " 8   lang          22920 non-null   object\n",
      "dtypes: int64(1), object(8)\n",
      "memory usage: 56.2+ MB\n"
     ]
    }
   ],
   "source": [
    "first_com = pd.read_csv(\"data/1st_Reddit_comments[topic=climatechange][time:2014-2022][lang=en].csv\")\n",
    "first_com.info()"
   ]
  },
  {
   "cell_type": "code",
   "execution_count": null,
   "metadata": {},
   "outputs": [
    {
     "name": "stdout",
     "output_type": "stream",
     "text": [
      "Warning: Some values in 'created_utc' could not be converted. They will be dropped.\n"
     ]
    },
    {
     "data": {
      "image/png": "[encoded data removed]",
      "text/plain": [
       "<Figure size 1000x600 with 1 Axes>"
      ]
     },
     "metadata": {},
     "output_type": "display_data"
    }
   ],
   "source": [
    "# 作出按日变化的帖子数统计图\n",
    "#df = pd.read_csv(\"data/debunking_comments[topic=POTUS2020][lang=en].csv\")\n",
    "df = first_com\n",
    "df['created_utc'] = pd.to_datetime(df['created_utc'], errors='coerce')\n",
    "#df['date'] = pd.to_datetime(df['created_utc'], errors='coerce') # 创建一个新列，只包含日期信息\n",
    "\n",
    "# check NaT values\n",
    "if df['created_utc'].isna().any():\n",
    "    print(\"Warning: Some values in 'created_utc' could not be converted. They will be dropped.\")\n",
    "\n",
    "df = df.dropna(subset=['created_utc'])\n",
    "# get date\n",
    "df['date'] = df['created_utc'].dt.date\n",
    "\n",
    "# set a date range\n",
    "date_range = pd.date_range(start=df['date'].min(), end=df['date'].max())\n",
    "# caculate daily commments number\n",
    "daily_counts = df.groupby('date').size()  \n",
    "daily_counts = daily_counts.reindex(date_range, fill_value=0)\n",
    "\n",
    "plt.figure(figsize=(10, 6))\n",
    "\n",
    "sns.lineplot(data=daily_counts)\n",
    "\n",
    "ax=plt.gca()  #gca:get current axis\n",
    "\n",
    "ax.spines['right'].set_color('none')\n",
    "ax.spines['top'].set_color('none')\n",
    "\n",
    "plt.title('Reddit: daily number of comments')\n",
    "plt.ylim((0,None))\n",
    "plt.xlabel('date')\n",
    "plt.ylabel('number')\n",
    "plt.savefig(\"pic/Reddit[climatechange]daily_number_of_comments.png\", dpi=300)\n",
    "plt.show()"
   ]
  },
  {
   "cell_type": "code",
   "execution_count": null,
   "metadata": {},
   "outputs": [
    {
     "name": "stdout",
     "output_type": "stream",
     "text": [
      "<class 'pandas.core.frame.DataFrame'>\n",
      "DatetimeIndex: 10900 entries, 2014-01-08 to 2023-01-01\n",
      "Data columns (total 9 columns):\n",
      " #   Column        Non-Null Count  Dtype         \n",
      "---  ------        --------------  -----         \n",
      " 0   Unnamed: 0    10900 non-null  int64         \n",
      " 1   created_utc   10900 non-null  datetime64[ns]\n",
      " 2   author        10900 non-null  object        \n",
      " 3   subreddit     10900 non-null  object        \n",
      " 4   body          10900 non-null  object        \n",
      " 5   parent_id     10897 non-null  object        \n",
      " 6   subreddit_id  10897 non-null  object        \n",
      " 7   id            10897 non-null  object        \n",
      " 8   lang          290 non-null    object        \n",
      "dtypes: datetime64[ns](1), int64(1), object(7)\n",
      "memory usage: 851.6+ KB\n"
     ]
    }
   ],
   "source": [
    "# isobaric sampling\n",
    "import numpy as np\n",
    "df['date'] = pd.to_datetime(df['date'])\n",
    "data = df\n",
    "data.set_index('date', inplace=True)\n",
    "sampled_data = pd.DataFrame()\n",
    "\n",
    "#  Grouped and sampled according to each month\n",
    "for name, group in data.groupby(pd.Grouper(freq='M')):\n",
    "    if len(group) >= 100: \n",
    "        sampled = group.sample(n=100, random_state=1) \n",
    "        sampled_data = pd.concat([sampled_data, sampled])\n",
    "    else:\n",
    "        print(f\"警告：{name.strftime('%Y-%m')} 的数据不足84条, 跳过此月份。\") # There are less than 84 entries in this range, skip this month.\n",
    "\n",
    "sampled_data.info()"
   ]
  },
  {
   "cell_type": "code",
   "execution_count": 5,
   "metadata": {},
   "outputs": [],
   "source": [
    "df.to_csv(\"data/Reddit_fulldata_comments[topic=climatechange][time:2014-2022][lang=en].csv\", index=False)"
   ]
  },
  {
   "cell_type": "code",
   "execution_count": 29,
   "metadata": {},
   "outputs": [],
   "source": [
    "sampled_data.to_csv(\"data/Reddit_comments[1st_class][count:10900][topic=climatechange][time:2014-2022][lang=en].csv\", index=False)"
   ]
  }
 ],
 "metadata": {
  "kernelspec": {
   "display_name": "reddit",
   "language": "python",
   "name": "python3"
  },
  "language_info": {
   "codemirror_mode": {
    "name": "ipython",
    "version": 3
   },
   "file_extension": ".py",
   "mimetype": "text/x-python",
   "name": "python",
   "nbconvert_exporter": "python",
   "pygments_lexer": "ipython3",
   "version": "3.7.16"
  }
 },
 "nbformat": 4,
 "nbformat_minor": 2
}
